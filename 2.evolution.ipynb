{
 "cells": [
  {
   "cell_type": "markdown",
   "id": "147142d6-5c04-4671-bc6e-0473d638307a",
   "metadata": {},
   "source": [
    "# Initialisation"
   ]
  },
  {
   "cell_type": "code",
   "execution_count": null,
   "id": "d28674b5-d64c-4c19-b1c3-d2d89ed5cf3d",
   "metadata": {},
   "outputs": [],
   "source": [
    "%matplotlib ipympl\n",
    "from matplotlib import pyplot as plt\n",
    "import numpy as np\n",
    "#import scipy\n",
    "from scipy.special import zeta\n",
    "from time import time\n",
    "from astropy import cosmology as cosmo\n",
    "from astropy import units as u\n",
    "from astropy import constants as c\n",
    "from astropy.visualization import quantity_support\n",
    "quantity_support()"
   ]
  },
  {
   "cell_type": "markdown",
   "id": "de6ae4b0-00d9-4d12-acb2-8c389a100f31",
   "metadata": {},
   "source": [
    "# Models"
   ]
  },
  {
   "cell_type": "code",
   "execution_count": null,
   "id": "6fd15638-bc27-48f5-a6c2-fb5298b04799",
   "metadata": {},
   "outputs": [],
   "source": [
    "%load_ext autoreload\n",
    "%autoreload 2"
   ]
  },
  {
   "cell_type": "code",
   "execution_count": null,
   "id": "6aaecbfa-9701-44f1-8b6c-bd453ab30f03",
   "metadata": {},
   "outputs": [],
   "source": [
    "from models import flcdm, coasting"
   ]
  },
  {
   "cell_type": "markdown",
   "id": "5d85dc01-b250-4988-9a89-310f1bb611c4",
   "metadata": {},
   "source": [
    "# Plot cosmic evolution"
   ]
  },
  {
   "cell_type": "code",
   "execution_count": null,
   "id": "c47e56b5-be58-4d66-a083-8f28d81d22d9",
   "metadata": {},
   "outputs": [],
   "source": [
    "fig_name = 'evolution'\n",
    "plt.close(fig_name)\n",
    "fig = plt.figure(fig_name, figsize=(8, 8))\n",
    "axes = fig.subplots(nrows=2, ncols=1, squeeze=False,\n",
    "                    sharex='col', sharey='row',\n",
    "                    gridspec_kw={'hspace': 0, 'wspace': 0},\n",
    "                   )\n",
    "alpha = 1\n",
    "\n",
    "ax = axes[0, 0]\n",
    "ax.set_ylabel(r'density $\\rho$ [M$_\\odot$ Mpc$^{-3}$]')\n",
    "\n",
    "def mass_to_E(m):\n",
    "    return((m*c.c**2 * u.Msun/u.Mpc**3).to_value(u.GeV/u.cm**3))\n",
    "def E_to_mass(E):\n",
    "    return((E/c.c**2 * u.GeV/u.cm**3).to_value(u.Msun/u.Mpc**3))\n",
    "secax = ax.secondary_yaxis('right', functions=(mass_to_E, E_to_mass))\n",
    "secax.set_ylabel(r'energy density $\\rho c^2$ [GeV cm$^{-3}$]')\n",
    "\n",
    "\n",
    "ax.set_yscale('log')\n",
    "ax.set_xscale('log')\n",
    "\n",
    "legends = []\n",
    "for model, title, ls, bbox in zip([flcdm, coasting],\n",
    "                                  [r'Flat $\\Lambda$CDM', 'Coasting'],\n",
    "                                  ['--', '-'],\n",
    "                                  [(0.45, 0.5, 0.5, 0.5), (0.72, 0.5, 0.5, 0.5)],\n",
    "                                 ):\n",
    "    t = model.t.to_value(u.yr)\n",
    "    rho_c = model.rho_crit_t.to_value(u.Msun/u.Mpc**3)\n",
    "    rho_de = np.exp(model.ln_Ode_t) * rho_c\n",
    "    rho_m = np.exp(model.ln_Om_t) * rho_c\n",
    "    rho_b = rho_m * model.Ob0/model.Om0\n",
    "    rho_gamma = np.exp(model.ln_Ogamma_t) *rho_c\n",
    "    \n",
    "    l1, = ax.plot(t, rho_de, c='r', ls=ls, alpha=alpha, label='dark energy')\n",
    "    l2, = ax.plot(t, rho_m - rho_b, c='k', ls=ls, alpha=alpha, label='dark matter')\n",
    "    l3, = ax.plot(t, rho_b, c='c', ls=ls, alpha=alpha, label='baryons (atoms)')\n",
    "    l4, = ax.plot(t, rho_gamma, c='y', ls=ls, alpha=alpha, label='photons')\n",
    "    legends.append(ax.legend(handles=[l1, l2, l3, l4], title=title, loc='upper left', bbox_to_anchor=bbox))\n",
    "\n",
    "ax.add_artist(legends[0])\n",
    "ax.set_xlim(3e3, 3e10)\n",
    "ax.set_ylim(3e6, 3e25)\n",
    "ax.set_yticks(np.logspace(7, 25, 19), minor=True, labels='')\n",
    "\n",
    "ax = axes[1, 0]\n",
    "ax.set_ylabel('ionisation fraction $x$')\n",
    "\n",
    "ax.plot(flcdm.t.to_value(u.yr), flcdm.x_ion_t, 'c--', alpha=alpha)\n",
    "ax.plot(coasting.t.to_value(u.yr), coasting.x_ion_t, 'c-', alpha=alpha)\n",
    "\n",
    "ax.plot(flcdm.t_cmb.to_value(u.yr), np.interp(flcdm.t_cmb, flcdm.t, flcdm.x_ion_t), 'cd', fillstyle='none',\n",
    "           label=r'Flat $\\Lambda$CDM: $t_{\\rm CMB} \\sim$'+f'{flcdm.t_cmb.to_value(u.Myr):.3f} Myr')\n",
    "ax.plot(coasting.t_cmb.to_value(u.yr), np.interp(coasting.t_cmb, coasting.t, coasting.x_ion_t), 'cd',\n",
    "        label=r'Coasting: $t_{\\rm CMB} \\sim$'+f'{coasting.t_cmb.to_value(u.Myr):.3f} Myr')\n",
    "\n",
    "l = ax.legend().get_lines()\n",
    "l[0].set_ls('--')\n",
    "l[1].set_ls('-')\n",
    "#h.set_visible(False)\n",
    "\n",
    "ax.set_xscale('log')\n",
    "ax.set_xlabel('cosmic time $t$ [yr]')\n",
    "\n",
    "\n",
    "for ax in axes.flatten():\n",
    "    #ax.tick_params(which='both', bottom=True, top=True, left=True, right=True)\n",
    "    ax.tick_params(which='major', direction='inout', length=8, grid_alpha=.3)\n",
    "    ax.tick_params(which='minor', direction='in', length=2, grid_alpha=.1)\n",
    "    ax.grid(True, which='both')\n",
    "    #ax.axvline(t_cmb_p18, c='r', ls='--')\n",
    "    #ax.axvline(t_cmb_model, c='k', ls='-')\n",
    "fig.set_tight_layout(True)\n",
    "plt.show()\n",
    "plt.savefig('figures/evolution.pdf')"
   ]
  }
 ],
 "metadata": {
  "kernelspec": {
   "display_name": "Python 3 (ipykernel)",
   "language": "python",
   "name": "python3"
  },
  "language_info": {
   "codemirror_mode": {
    "name": "ipython",
    "version": 3
   },
   "file_extension": ".py",
   "mimetype": "text/x-python",
   "name": "python",
   "nbconvert_exporter": "python",
   "pygments_lexer": "ipython3",
   "version": "3.8.10"
  },
  "toc-autonumbering": true
 },
 "nbformat": 4,
 "nbformat_minor": 5
}
