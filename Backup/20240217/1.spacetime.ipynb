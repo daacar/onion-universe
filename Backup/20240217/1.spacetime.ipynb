{
 "cells": [
  {
   "cell_type": "code",
   "execution_count": null,
   "id": "d28674b5-d64c-4c19-b1c3-d2d89ed5cf3d",
   "metadata": {},
   "outputs": [],
   "source": [
    "%matplotlib ipympl\n",
    "from matplotlib import pyplot as plt\n",
    "import numpy as np\n",
    "from astropy import cosmology as cosmo\n",
    "from astropy import units as u\n",
    "from astropy import constants as c\n",
    "from astropy.visualization import quantity_support\n",
    "quantity_support()"
   ]
  },
  {
   "cell_type": "code",
   "execution_count": null,
   "id": "346be224-3cd7-41e1-8cd5-a966d5526552",
   "metadata": {},
   "outputs": [],
   "source": [
    "LCDM = cosmo.Planck18"
   ]
  },
  {
   "cell_type": "code",
   "execution_count": null,
   "id": "fe9fde8b-a6f0-4f27-b655-fe16bccfa86c",
   "metadata": {},
   "outputs": [],
   "source": [
    "max_xi = 30*np.pi\n",
    "step = np.pi/10\n",
    "xi = np.arange(0, max_xi, step)\n",
    "xi = np.concatenate([-max_xi+xi, xi])\n",
    "z = np.concatenate([np.linspace(-.3, 0, 21), np.logspace(-2, 10, 101)])\n",
    "a = 1/(1+z)\n",
    "t0 = LCDM.age(0)\n",
    "t = (LCDM.age(z)/t0).to_value('')\n",
    "Dc = (LCDM.comoving_distance(z)*LCDM.H0/c.c).to_value('')"
   ]
  },
  {
   "cell_type": "code",
   "execution_count": null,
   "id": "113f022a-b064-45ca-8a01-0c9bfade87f1",
   "metadata": {},
   "outputs": [],
   "source": [
    "z_e = 1\n",
    "t_e = (LCDM.age(z_e)/t0).to_value('')\n",
    "Dc_e = (LCDM.comoving_distance(z_e)*LCDM.H0/c.c).to_value('')"
   ]
  },
  {
   "cell_type": "code",
   "execution_count": null,
   "id": "52bc5b55-ebeb-43eb-bc2c-210033ce6773",
   "metadata": {},
   "outputs": [],
   "source": [
    "plt.close('LCDM')\n",
    "fig = plt.figure('LCDM', figsize=(7.5, 5))\n",
    "axes = fig.subplots(nrows=1, ncols=1, squeeze=False,\n",
    "                    sharex='col', sharey='row',\n",
    "                    gridspec_kw={'hspace': 0, 'wspace': 0}\n",
    "                   )\n",
    "\n",
    "ax = axes[0, 0]\n",
    "ax.annotate('time here', xy=[.48, .85], rotation=90, xycoords='axes fraction')\n",
    "ax.set_xlim(-np.pi, np.pi)\n",
    "ax.annotate('space now', xy=[1.9, 1.01], color='r')\n",
    "ax.annotate('space then', xy=[1.9, t_e+.01], color='b')\n",
    "\n",
    "x = Dc_e\n",
    "ax.plot(x*a, t, 'k-', alpha=1)\n",
    "ax.annotate('time there', xy=[.62, .82], rotation=70, xycoords='axes fraction')\n",
    "for x in xi:\n",
    "    ax.plot(x*a, t, 'k-', alpha=.1)\n",
    "\n",
    "\n",
    "light_cone, = ax.plot(Dc*a, t, 'y:', label='light cones')\n",
    "ax.plot(-Dc*a, t, 'y:', label='light cones')\n",
    "ax.plot([0, 0], [t[0], t[-1]], 'k-')\n",
    "ax.annotate('future', xy=[.2, 1.1], color='y')\n",
    "ax.annotate('past', xy=[.2, .85], color='y')\n",
    "\n",
    "present_time = ax.axhline(1, c='r', ls='--')\n",
    "photon_received, = ax.plot(0, 1, 'ro--', label=f'photon received today (t={t0:.2f})')\n",
    "emission_time = ax.axhline(t_e, c='b', ls='--')\n",
    "photon_emitted, = ax.plot(Dc_e/(1+z_e), t_e, 'bo--', label=f'photon emitted at z={z_e} (t={t_e*t0:.3f})')\n",
    "ax.axhline(0, c='k')\n",
    "big_bang, = ax.plot(0, 0, 'ko', label='Big Bang (t=0)')\n",
    "ax.legend(handles=[photon_received, photon_emitted, light_cone, big_bang], title=r'$\\Lambda$CDM', loc='center left')\n",
    "\n",
    "for ax in axes.flatten():\n",
    "    ax.axis('off')\n",
    "    #ax.tick_params(which='both', direction='in')\n",
    "    #ax.grid(alpha=.5)\n",
    "fig.set_tight_layout(True)\n",
    "plt.savefig('LCDM.pdf')\n",
    "plt.show()"
   ]
  },
  {
   "cell_type": "code",
   "execution_count": null,
   "id": "5d2e6093-3912-48ed-bd79-efd3e84e6ad0",
   "metadata": {},
   "outputs": [],
   "source": [
    "max_xi = np.pi\n",
    "step = np.pi/20\n",
    "xi = np.arange(0, max_xi, step)\n",
    "xi = np.concatenate([-max_xi+xi, xi])\n",
    "z = np.concatenate([np.linspace(-.2, 0, 21), np.logspace(-2, 10, 101)])\n",
    "a = 1/(1+z)\n",
    "H0 = 70.2*u.km/u.s/u.Mpc\n",
    "t0 = (1/H0).to_value(u.Gyr)\n",
    "t = 1/(1+z)\n",
    "Dc = np.log(1+z)"
   ]
  },
  {
   "cell_type": "code",
   "execution_count": null,
   "id": "b3df662e-a5fd-4c37-88c8-23838e4e4dd1",
   "metadata": {},
   "outputs": [],
   "source": [
    "z_e = 1\n",
    "t_e = 1/(1+z_e)\n",
    "Dc_e = np.log(1+z_e)"
   ]
  },
  {
   "cell_type": "code",
   "execution_count": null,
   "id": "b9ea9b24-82c5-4243-af66-539f14de1ff5",
   "metadata": {},
   "outputs": [],
   "source": [
    "plt.close('finite_universe')\n",
    "fig = plt.figure('finite_universe', figsize=(7.5, 7.5))\n",
    "axes = fig.subplots(nrows=1, ncols=1, squeeze=False,\n",
    "                    sharex='col', sharey='row',\n",
    "                    gridspec_kw={'hspace': 0, 'wspace': 0},\n",
    "                   )\n",
    "\n",
    "ax = axes[0, 0]\n",
    "ax.set_aspect('equal')\n",
    "ax.annotate('time here', xy=[.48, .9], rotation=90, xycoords='axes fraction')\n",
    "#ax.set_xlim(-np.pi, np.pi)\n",
    "#ax.annotate('space', xy=[.9, 0.48], xycoords='axes fraction')\n",
    "\n",
    "x = Dc_e\n",
    "ax.plot([0, t[0]*np.sin(x)], [0, t[0]*np.cos(x)], 'k-')\n",
    "ax.annotate('time there', xy=[.65, .85], rotation=51)\n",
    "\n",
    "for x in xi:\n",
    "    ax.plot([0, t[0]*np.sin(x)], [0, t[0]*np.cos(x)], 'k-', alpha=.1)\n",
    "\n",
    "ax.annotate('space now', xy=[1.01, -.15], color='r', rotation=-90)\n",
    "ax.annotate('space then', xy=[t_e+.01, -.15], color='b', rotation=-90)\n",
    "\n",
    "light_cone, = ax.plot(np.sin(Dc)*t, np.cos(Dc)*t, 'y:', label='light cones')\n",
    "ax.plot(np.sin(-Dc)*t, np.cos(-Dc)*t, 'y:')\n",
    "ax.annotate('future', xy=[.15, 1], color='y', rotation=-10)\n",
    "ax.annotate('past', xy=[.15, .85], color='y', rotation=-15)\n",
    "ax.plot([0, 0], [t[0], t[-1]], 'k-')\n",
    "\n",
    "theta = np.linspace(0, 2*np.pi, 101)\n",
    "ax.plot(np.sin(theta), np.cos(theta), 'r--')\n",
    "photon_received, = ax.plot(0, 1, 'ro--', label=f'photon received today (t={t0:.2f} Gyr)')\n",
    "ax.plot(np.sin(theta)/(1+z_e), np.cos(theta)/(1+z_e), 'b--')\n",
    "photon_emitted, = ax.plot(np.sin(Dc_e)*t_e, np.cos(Dc_e)*t_e, 'bo--', label=f'photon emitted at z={z_e} (t={t_e*t0:.3f} Gyr)')\n",
    "big_bang, = ax.plot(0, 0, 'ko', label='Big Bang (t=0)')\n",
    "ax.legend(handles=[photon_received, photon_emitted, light_cone, big_bang], title='This work', loc='center left')\n",
    "\n",
    "for ax in axes.flatten():\n",
    "    ax.axis('off')\n",
    "    #ax.tick_params(which='both', direction='in')\n",
    "    #ax.grid(alpha=.5)\n",
    "fig.set_tight_layout(True)\n",
    "plt.savefig('finite_universe.pdf')\n",
    "plt.show()"
   ]
  },
  {
   "cell_type": "code",
   "execution_count": null,
   "id": "d434018a-1306-404f-8937-de395d79ed52",
   "metadata": {},
   "outputs": [],
   "source": []
  }
 ],
 "metadata": {
  "kernelspec": {
   "display_name": "Python 3 (ipykernel)",
   "language": "python",
   "name": "python3"
  },
  "language_info": {
   "codemirror_mode": {
    "name": "ipython",
    "version": 3
   },
   "file_extension": ".py",
   "mimetype": "text/x-python",
   "name": "python",
   "nbconvert_exporter": "python",
   "pygments_lexer": "ipython3",
   "version": "3.8.10"
  }
 },
 "nbformat": 4,
 "nbformat_minor": 5
}
